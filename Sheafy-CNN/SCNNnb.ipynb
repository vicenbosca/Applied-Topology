{
 "cells": [
  {
   "cell_type": "markdown",
   "metadata": {},
   "source": [
    "# Sheafy CNN test notebook"
   ]
  },
  {
   "cell_type": "markdown",
   "metadata": {},
   "source": [
    "In this notebook I will develop and test a new CNN architecture inspired in cellular sheaves (but in reality, not sheafy at all)"
   ]
  },
  {
   "cell_type": "markdown",
   "metadata": {},
   "source": [
    "Author Vicente Gonzalez Bosca (vicenteg@sas.upenn.edu)\n",
    "\n",
    "Last updated 14th December 2024"
   ]
  },
  {
   "cell_type": "code",
   "execution_count": 1,
   "metadata": {},
   "outputs": [],
   "source": [
    "# open libraries\n",
    "import sympy as sp\n",
    "# import own classes an functions (and more open libraries)\n",
    "from SCNN import *"
   ]
  },
  {
   "cell_type": "code",
   "execution_count": 2,
   "metadata": {},
   "outputs": [
    {
     "data": {
      "text/plain": [
       "<torch._C.Generator at 0x20d77d42350>"
      ]
     },
     "execution_count": 2,
     "metadata": {},
     "output_type": "execute_result"
    }
   ],
   "source": [
    "# Set random seed for reproducibility\n",
    "torch.manual_seed(42)"
   ]
  },
  {
   "cell_type": "markdown",
   "metadata": {},
   "source": [
    "We will test this on the simplest dataset possible, MNIST"
   ]
  },
  {
   "cell_type": "code",
   "execution_count": 3,
   "metadata": {},
   "outputs": [],
   "source": [
    "# Define the transformations\n",
    "transform = transforms.Compose([\n",
    "    transforms.ToTensor(),\n",
    "    transforms.Normalize((0.1307,), (0.3081,))  # MNIST specific mean and std\n",
    "])"
   ]
  },
  {
   "cell_type": "code",
   "execution_count": 4,
   "metadata": {},
   "outputs": [],
   "source": [
    "# Load MNIST dataset\n",
    "train_dataset = torchvision.datasets.MNIST(\n",
    "    root='./data', \n",
    "    train=True,\n",
    "    download=True,\n",
    "    transform=transform\n",
    ")\n",
    "\n",
    "test_dataset = torchvision.datasets.MNIST(\n",
    "    root='./data', \n",
    "    train=False,\n",
    "    download=True,\n",
    "    transform=transform\n",
    ")"
   ]
  },
  {
   "cell_type": "code",
   "execution_count": 5,
   "metadata": {},
   "outputs": [],
   "source": [
    "# Create data loaders\n",
    "train_loader = DataLoader(train_dataset, batch_size=64, shuffle=True)\n",
    "test_loader = DataLoader(test_dataset, batch_size=64, shuffle=False)"
   ]
  },
  {
   "cell_type": "code",
   "execution_count": 6,
   "metadata": {},
   "outputs": [
    {
     "name": "stdout",
     "output_type": "stream",
     "text": [
      "Training set size: 60000\n",
      "Test set size: 10000\n",
      "Image shape: torch.Size([1, 28, 28])\n"
     ]
    }
   ],
   "source": [
    "# Print dataset information\n",
    "print(f\"Training set size: {len(train_dataset)}\")\n",
    "print(f\"Test set size: {len(test_dataset)}\")\n",
    "print(f\"Image shape: {train_dataset[0][0].shape}\")"
   ]
  },
  {
   "cell_type": "code",
   "execution_count": 7,
   "metadata": {},
   "outputs": [
    {
     "name": "stdout",
     "output_type": "stream",
     "text": [
      "Image shape: (28, 28)\n",
      "\n",
      "Pixel value range:\n",
      "Min value: -0.424\n",
      "Max value: 2.821\n",
      "Mean value: 0.023\n"
     ]
    },
    {
     "data": {
      "image/png": "[encoded data removed]",
      "text/plain": [
       "<Figure size 600x600 with 2 Axes>"
      ]
     },
     "metadata": {},
     "output_type": "display_data"
    }
   ],
   "source": [
    "# Display the first image from the training set\n",
    "show_single_image(train_dataset)"
   ]
  },
  {
   "cell_type": "markdown",
   "metadata": {},
   "source": [
    "We create regular CNNs present in the literature and check all the function definitions work"
   ]
  },
  {
   "cell_type": "code",
   "execution_count": 8,
   "metadata": {},
   "outputs": [
    {
     "name": "stderr",
     "output_type": "stream",
     "text": [
      "c:\\Users\\vicen\\anaconda3\\Lib\\site-packages\\torch\\nn\\init.py:511: UserWarning: Initializing zero-element tensors is a no-op\n",
      "  warnings.warn(\"Initializing zero-element tensors is a no-op\")\n"
     ]
    }
   ],
   "source": [
    "# Example usage with different configurations:\n",
    "\n",
    "# Original 2-layer configuration\n",
    "model_original = MNISTConvNet(\n",
    "    conv_channels=[32, 64],\n",
    "    fc_features=[512]\n",
    ")\n",
    "\n",
    "# Deeper model with 3 conv layers\n",
    "model_deep = MNISTConvNet(\n",
    "    conv_channels=[32, 64, 128],\n",
    "    fc_features=[1024, 512]\n",
    ")\n",
    "\n",
    "# Shallow model with 1 conv layer\n",
    "model_shallow = MNISTConvNet(\n",
    "    conv_channels=[32],\n",
    "    fc_features=[256]\n",
    ")"
   ]
  },
  {
   "cell_type": "code",
   "execution_count": 9,
   "metadata": {},
   "outputs": [
    {
     "name": "stdout",
     "output_type": "stream",
     "text": [
      "\n",
      "Original Model:\n",
      "MNISTConvNet(\n",
      "  (conv_layers): ModuleList(\n",
      "    (0): Conv2d(1, 32, kernel_size=(5, 5), stride=(1, 1))\n",
      "    (1): Conv2d(32, 64, kernel_size=(5, 5), stride=(1, 1))\n",
      "  )\n",
      "  (fc_layers): ModuleList(\n",
      "    (0): Linear(in_features=1024, out_features=512, bias=True)\n",
      "  )\n",
      "  (fc_out): Linear(in_features=512, out_features=10, bias=True)\n",
      "  (pool): MaxPool2d(kernel_size=2, stride=2, padding=0, dilation=1, ceil_mode=False)\n",
      "  (dropout): Dropout(p=0.25, inplace=False)\n",
      ")\n",
      "Total parameters: 582,026\n",
      "\n",
      "Deep Model:\n",
      "MNISTConvNet(\n",
      "  (conv_layers): ModuleList(\n",
      "    (0): Conv2d(1, 32, kernel_size=(5, 5), stride=(1, 1))\n",
      "    (1): Conv2d(32, 64, kernel_size=(5, 5), stride=(1, 1))\n",
      "    (2): Conv2d(64, 128, kernel_size=(5, 5), stride=(1, 1))\n",
      "  )\n",
      "  (fc_layers): ModuleList(\n",
      "    (0): Linear(in_features=0, out_features=1024, bias=True)\n",
      "    (1): Linear(in_features=1024, out_features=512, bias=True)\n",
      "  )\n",
      "  (fc_out): Linear(in_features=512, out_features=10, bias=True)\n",
      "  (pool): MaxPool2d(kernel_size=2, stride=2, padding=0, dilation=1, ceil_mode=False)\n",
      "  (dropout): Dropout(p=0.25, inplace=False)\n",
      ")\n",
      "Total parameters: 787,978\n",
      "\n",
      "Shallow Model:\n",
      "MNISTConvNet(\n",
      "  (conv_layers): ModuleList(\n",
      "    (0): Conv2d(1, 32, kernel_size=(5, 5), stride=(1, 1))\n",
      "  )\n",
      "  (fc_layers): ModuleList(\n",
      "    (0): Linear(in_features=4608, out_features=256, bias=True)\n",
      "  )\n",
      "  (fc_out): Linear(in_features=256, out_features=10, bias=True)\n",
      "  (pool): MaxPool2d(kernel_size=2, stride=2, padding=0, dilation=1, ceil_mode=False)\n",
      "  (dropout): Dropout(p=0.25, inplace=False)\n",
      ")\n",
      "Total parameters: 1,183,306\n"
     ]
    }
   ],
   "source": [
    "# Print model architectures\n",
    "model_original.print_model_info(\"Original Model\")\n",
    "model_deep.print_model_info(\"Deep Model\")\n",
    "model_shallow.print_model_info(\"Shallow Model\")"
   ]
  },
  {
   "cell_type": "markdown",
   "metadata": {},
   "source": [
    "We load a previously trained model (for training procedure see code commented below)"
   ]
  },
  {
   "cell_type": "code",
   "execution_count": 10,
   "metadata": {},
   "outputs": [
    {
     "name": "stdout",
     "output_type": "stream",
     "text": [
      "\n",
      "MNISTConvNet Model:\n",
      "MNISTConvNet(\n",
      "  (conv_layers): ModuleList(\n",
      "    (0): Conv2d(1, 32, kernel_size=(5, 5), stride=(1, 1))\n",
      "    (1): Conv2d(32, 64, kernel_size=(5, 5), stride=(1, 1))\n",
      "  )\n",
      "  (fc_layers): ModuleList(\n",
      "    (0): Linear(in_features=1024, out_features=512, bias=True)\n",
      "  )\n",
      "  (fc_out): Linear(in_features=512, out_features=10, bias=True)\n",
      "  (pool): MaxPool2d(kernel_size=2, stride=2, padding=0, dilation=1, ceil_mode=False)\n",
      "  (dropout): Dropout(p=0.25, inplace=False)\n",
      ")\n",
      "Total parameters: 582,026\n"
     ]
    },
    {
     "name": "stderr",
     "output_type": "stream",
     "text": [
      "c:\\Users\\vicen\\Documents\\PhD\\classes\\GNNs\\SCNN.py:175: FutureWarning: You are using `torch.load` with `weights_only=False` (the current default value), which uses the default pickle module implicitly. It is possible to construct malicious pickle data which will execute arbitrary code during unpickling (See https://github.com/pytorch/pytorch/blob/main/SECURITY.md#untrusted-models for more details). In a future release, the default value for `weights_only` will be flipped to `True`. This limits the functions that could be executed during unpickling. Arbitrary objects will no longer be allowed to be loaded via this mode unless they are explicitly allowlisted by the user via `torch.serialization.add_safe_globals`. We recommend you start setting `weights_only=True` for any use case where you don't have full control of the loaded file. Please open an issue on GitHub for any issues related to this experimental feature.\n",
      "  checkpoint = torch.load(path)\n",
      "c:\\Users\\vicen\\Documents\\PhD\\classes\\GNNs\\SCNN.py:358: FutureWarning: You are using `torch.load` with `weights_only=False` (the current default value), which uses the default pickle module implicitly. It is possible to construct malicious pickle data which will execute arbitrary code during unpickling (See https://github.com/pytorch/pytorch/blob/main/SECURITY.md#untrusted-models for more details). In a future release, the default value for `weights_only` will be flipped to `True`. This limits the functions that could be executed during unpickling. Arbitrary objects will no longer be allowed to be loaded via this mode unless they are explicitly allowlisted by the user via `torch.serialization.add_safe_globals`. We recommend you start setting `weights_only=True` for any use case where you don't have full control of the loaded file. Please open an issue on GitHub for any issues related to this experimental feature.\n",
      "  checkpoint = torch.load(path)\n"
     ]
    }
   ],
   "source": [
    "# First load the model\n",
    "model = MNISTConvNet.load('best_model.pth')\n",
    "model.print_model_info(\"MNISTConvNet Model\")\n",
    "\n",
    "# Then create a trainer with this model\n",
    "trainer = create_trainer(model, train_dataset, test_dataset)\n",
    "\n",
    "# Finally load the training state\n",
    "trainer.load_training_state('best_model_training.pth')"
   ]
  },
  {
   "cell_type": "code",
   "execution_count": 11,
   "metadata": {},
   "outputs": [],
   "source": [
    "# model = MNISTConvNet()\n",
    "# trainer = create_trainer(\n",
    "#     model=model,\n",
    "#     train_dataset=train_dataset,\n",
    "#     test_dataset=test_dataset,  # Now we explicitly pass the test dataset\n",
    "#     val_size=0.1,\n",
    "#     batch_size=64,\n",
    "#     learning_rate=0.001,\n",
    "#     patience=5\n",
    "# )"
   ]
  },
  {
   "cell_type": "code",
   "execution_count": 12,
   "metadata": {},
   "outputs": [],
   "source": [
    "# train_losses, val_losses, test_accuracies = trainer.train(epochs=20)\n",
    "\n",
    "# Output\n",
    "# Epoch 1 [0/54000 (0%)]\tLoss: 2.310213\n",
    "# Epoch 1 [6400/54000 (12%)]\tLoss: 0.124263\n",
    "# Epoch 1 [12800/54000 (24%)]\tLoss: 0.076891\n",
    "# Epoch 1 [19200/54000 (36%)]\tLoss: 0.194280\n",
    "# Epoch 1 [25600/54000 (47%)]\tLoss: 0.110252\n",
    "# Epoch 1 [32000/54000 (59%)]\tLoss: 0.134122\n",
    "# Epoch 1 [38400/54000 (71%)]\tLoss: 0.092276\n",
    "# Epoch 1 [44800/54000 (83%)]\tLoss: 0.148708\n",
    "# Epoch 1 [51200/54000 (95%)]\tLoss: 0.075057\n",
    "\n",
    "# Epoch 1 Complete:\n",
    "# Training Loss: 0.1275\n",
    "# Validation Loss: 0.0537\n",
    "# Test Accuracy: 98.57%\n",
    "# Time taken: 78.00 seconds\n",
    "# Epoch 2 [0/54000 (0%)]\tLoss: 0.053950\n",
    "# Epoch 2 [6400/54000 (12%)]\tLoss: 0.051221\n",
    "# Epoch 2 [12800/54000 (24%)]\tLoss: 0.104787\n",
    "# Epoch 2 [19200/54000 (36%)]\tLoss: 0.008113\n",
    "# Epoch 2 [25600/54000 (47%)]\tLoss: 0.081297\n",
    "# Epoch 2 [32000/54000 (59%)]\tLoss: 0.006960\n",
    "# Epoch 2 [38400/54000 (71%)]\tLoss: 0.015079\n",
    "# Epoch 2 [44800/54000 (83%)]\tLoss: 0.004595\n",
    "# Epoch 2 [51200/54000 (95%)]\tLoss: 0.116974\n",
    "# ...\n",
    "# Early stopping triggered after epoch 11\n",
    "\n",
    "# Training complete in 7.20 minutes\n",
    "# Best test accuracy: 99.28%"
   ]
  },
  {
   "cell_type": "code",
   "execution_count": 13,
   "metadata": {},
   "outputs": [
    {
     "name": "stdout",
     "output_type": "stream",
     "text": [
      "Model Performance Analysis\n",
      "==================================================\n"
     ]
    },
    {
     "data": {
      "image/png": "[encoded data removed]",
      "text/plain": [
       "<Figure size 1500x500 with 2 Axes>"
      ]
     },
     "metadata": {},
     "output_type": "display_data"
    },
    {
     "name": "stdout",
     "output_type": "stream",
     "text": [
      "\n",
      "Final Metrics:\n",
      "Best Test Accuracy: 99.28%\n",
      "Final Training Loss: 0.0165\n",
      "Final Validation Loss: 0.0256\n",
      "\n",
      "Learning Convergence Analysis:\n",
      "Total Epochs Trained: 6\n",
      "Epoch with Best Performance: 6\n",
      "Recent Improvement (last 5 epochs): 0.006202\n",
      "\n",
      "Detailed Prediction Analysis:\n"
     ]
    },
    {
     "data": {
      "image/png": "[encoded data removed]",
      "text/plain": [
       "<Figure size 1000x800 with 2 Axes>"
      ]
     },
     "metadata": {},
     "output_type": "display_data"
    },
    {
     "data": {
      "image/png": "[encoded data removed]",
      "text/plain": [
       "<Figure size 2000x400 with 10 Axes>"
      ]
     },
     "metadata": {},
     "output_type": "display_data"
    },
    {
     "name": "stdout",
     "output_type": "stream",
     "text": [
      "\n",
      "Per-class Analysis:\n",
      "              precision    recall  f1-score   support\n",
      "\n",
      "           0       0.99      1.00      1.00       980\n",
      "           1       0.99      1.00      0.99      1135\n",
      "           2       0.99      1.00      1.00      1032\n",
      "           3       0.99      1.00      0.99      1010\n",
      "           4       0.99      0.99      0.99       982\n",
      "           5       0.99      0.99      0.99       892\n",
      "           6       1.00      0.99      0.99       958\n",
      "           7       1.00      0.99      0.99      1028\n",
      "           8       1.00      0.99      0.99       974\n",
      "           9       0.99      0.98      0.99      1009\n",
      "\n",
      "    accuracy                           0.99     10000\n",
      "   macro avg       0.99      0.99      0.99     10000\n",
      "weighted avg       0.99      0.99      0.99     10000\n",
      "\n",
      "\n",
      "Model Complexity:\n",
      "Total Parameters: 582,026\n",
      "Trainable Parameters: 582,026\n"
     ]
    }
   ],
   "source": [
    "# After training:\n",
    "# Then analyze performance using the same test_loader from trainer\n",
    "trainer.analyze_performance()"
   ]
  },
  {
   "cell_type": "markdown",
   "metadata": {},
   "source": [
    "The trained model performs pretty good. We create an app to test it with handwritten inputs by the user"
   ]
  },
  {
   "cell_type": "code",
   "execution_count": 14,
   "metadata": {},
   "outputs": [],
   "source": [
    "# Then run the drawing application\n",
    "# After training or loading your model\n",
    "# model = MNISTConvNet.load('best_model.pth')  # Or use trainer.model after training\n",
    "app = DigitDrawer(model)\n",
    "app.run()"
   ]
  },
  {
   "cell_type": "markdown",
   "metadata": {},
   "source": [
    "We now define the building blocks for aur sheafy neural network"
   ]
  },
  {
   "cell_type": "markdown",
   "metadata": {},
   "source": [
    "We start with the nodes to edges function"
   ]
  },
  {
   "cell_type": "code",
   "execution_count": 15,
   "metadata": {},
   "outputs": [
    {
     "name": "stdout",
     "output_type": "stream",
     "text": [
      "Shapes: torch.Size([1, 1, 12])\n"
     ]
    }
   ],
   "source": [
    "# Check everythin works\n",
    "x = torch.randn(1,1,9, requires_grad=True) # x shape: [batch_size, in_channels, m*n]\n",
    "nte = NodestoEdges(3,3,1,1) # create class\n",
    "y = nte(x) # transform\n",
    "print(\"Shapes:\", y.shape) # check shape"
   ]
  },
  {
   "cell_type": "code",
   "execution_count": 16,
   "metadata": {},
   "outputs": [
    {
     "name": "stdout",
     "output_type": "stream",
     "text": [
      "tensor(indices=tensor([[0, 0, 1, 1, 2, 2, 3, 3, 4, 4, 5, 5, 6, 7, 8, 9, 6, 7, 8,\n",
      "                        9],\n",
      "                       [0, 1, 1, 2, 2, 3, 4, 5, 5, 6, 6, 7, 0, 1, 2, 3, 4, 5, 6,\n",
      "                        7]]),\n",
      "       values=tensor([1., 1., 1., 1., 1., 1., 1., 1., 1., 1., 1., 1., 1., 1.,\n",
      "                      1., 1., 1., 1., 1., 1.]),\n",
      "       size=(10, 8), nnz=20, layout=torch.sparse_coo)\n",
      "tensor([[1., 1., 0., 0., 0., 0., 0., 0.],\n",
      "        [0., 1., 1., 0., 0., 0., 0., 0.],\n",
      "        [0., 0., 1., 1., 0., 0., 0., 0.],\n",
      "        [0., 0., 0., 0., 1., 1., 0., 0.],\n",
      "        [0., 0., 0., 0., 0., 1., 1., 0.],\n",
      "        [0., 0., 0., 0., 0., 0., 1., 1.],\n",
      "        [1., 0., 0., 0., 1., 0., 0., 0.],\n",
      "        [0., 1., 0., 0., 0., 1., 0., 0.],\n",
      "        [0., 0., 1., 0., 0., 0., 1., 0.],\n",
      "        [0., 0., 0., 1., 0., 0., 0., 1.]])\n"
     ]
    }
   ],
   "source": [
    "# Check that the sparsity pattern is correct for other grid sizes\n",
    "nte = NodestoEdges(2,4,1,1)\n",
    "print(nte.delta)\n",
    "print(nte.delta.to_dense())\n"
   ]
  },
  {
   "cell_type": "code",
   "execution_count": 17,
   "metadata": {},
   "outputs": [
    {
     "name": "stdout",
     "output_type": "stream",
     "text": [
      "tensor([[[-0.8437, -1.3237, -1.3237,  0.0415,  0.3469,  0.0157,  0.0157,\n",
      "          -0.1246, -0.7171, -0.5120, -0.5120, -0.2713, -0.8437,  0.3469,\n",
      "          -1.3237,  0.0157,  0.0415, -0.1246,  0.3469, -0.7171,  0.0157,\n",
      "          -0.5120, -0.1246, -0.2713]]])\n",
      "Total elements: 108\n",
      "Non-zero elements: 24\n",
      "Sparsity: 77.78%\n"
     ]
    }
   ],
   "source": [
    "# Check gradient is working properly\n",
    "nte = NodestoEdges(3,3,1,1,bias=False)\n",
    "x = torch.randn(1,1,9, requires_grad=True)\n",
    "y = nte(x)\n",
    "z = y.sum()\n",
    "z.backward()\n",
    "print(nte.weight.grad)  # Should show non-None gradients\n",
    "\n",
    "# Print sparsity info\n",
    "print(f\"Total elements: {nte.delta.size(0) * nte.delta.size(1)}\")\n",
    "print(f\"Non-zero elements: {nte.delta._nnz()}\")\n",
    "print(f\"Sparsity: {1 - nte.delta._nnz()/(nte.delta.size(0) * nte.delta.size(1)):.2%}\")"
   ]
  },
  {
   "cell_type": "code",
   "execution_count": 18,
   "metadata": {},
   "outputs": [
    {
     "name": "stdout",
     "output_type": "stream",
     "text": [
      "tensor(-1.8626e-09, grad_fn=<SumBackward0>)\n"
     ]
    }
   ],
   "source": [
    "# Check the output is what it should be\n",
    "channel_weights = nte.weight[0,0]\n",
    "base_delta = nte.delta.coalesce()\n",
    "indices = base_delta.indices()\n",
    "channel_delta = torch.sparse_coo_tensor(\n",
    "    indices,\n",
    "    channel_weights,\n",
    "    size=nte.delta.size()\n",
    ")\n",
    "y_man = torch.matmul(channel_delta.to_dense(), x.squeeze()) \n",
    "# Print zero if sparse multiplication is the same as dense multiplication\n",
    "print(torch.sum(y_man - y))"
   ]
  },
  {
   "cell_type": "markdown",
   "metadata": {},
   "source": [
    "Now we try the edges to intersection function"
   ]
  },
  {
   "cell_type": "code",
   "execution_count": 19,
   "metadata": {},
   "outputs": [
    {
     "name": "stdout",
     "output_type": "stream",
     "text": [
      "Matrix shape: torch.Size([4, 12])\n",
      "\n",
      "Non-zero entries: 16\n",
      "Sparsity: 66.67%\n",
      "\n",
      "tensor([[1., 0., 1., 0., 0., 0., 1., 1., 0., 0., 0., 0.],\n",
      "        [0., 1., 0., 1., 0., 0., 0., 1., 1., 0., 0., 0.],\n",
      "        [0., 0., 1., 0., 1., 0., 0., 0., 0., 1., 1., 0.],\n",
      "        [0., 0., 0., 1., 0., 1., 0., 0., 0., 0., 1., 1.]])\n"
     ]
    }
   ],
   "source": [
    "# Test with 3x3 grid\n",
    "eti = EdgestoInter(3,3,1,1)\n",
    "print(\"Matrix shape:\", eti.delta.size())  # Should be (4, 12) for 3x3 grid\n",
    "                                         # 4 intersections, 12 edges\n",
    "\n",
    "# Check sparsity\n",
    "delta_coalesced = eti.delta.coalesce()\n",
    "print(\"\\nNon-zero entries:\", delta_coalesced._nnz())\n",
    "total_elements = delta_coalesced.size(0) * delta_coalesced.size(1)\n",
    "sparsity = 1 - (delta_coalesced._nnz()/total_elements)\n",
    "print(f\"Sparsity: {sparsity:.2%}\\n\")\n",
    "print(eti.delta.to_dense())\n"
   ]
  },
  {
   "cell_type": "markdown",
   "metadata": {},
   "source": [
    "Combine them together to have a function from nodes to intersections. You decrease dimension by first increasing it (nodes to edges) and then decreasing it (edges to intersections)"
   ]
  },
  {
   "cell_type": "code",
   "execution_count": 20,
   "metadata": {},
   "outputs": [
    {
     "name": "stdout",
     "output_type": "stream",
     "text": [
      "torch.Size([1, 1, 12])\n",
      "NodestoEdges weights grad: tensor([[[-0.0585, -0.1788, -0.2289, -0.3197, -0.3315, -0.1653,  0.2706,\n",
      "          -0.5820,  0.0652, -0.3361,  0.0161,  0.0089, -0.0687, -0.3183,\n",
      "           0.2427,  0.1834,  0.2434, -0.2831, -0.2770, -0.0683, -0.0822,\n",
      "           0.2095, -0.0799, -0.0525]]])\n",
      "EdgestoInter weights grad: tensor([[[ 0.0214, -0.2145, -0.3874,  0.2603, -0.1801, -0.1313,  0.2603,\n",
      "          -0.3446, -0.2145, -0.1319,  0.1270,  0.2479, -0.1313,  0.3593,\n",
      "           0.2479, -0.3573]]])\n",
      "\n",
      "NodestoEdges sparsity:\n",
      "Total elements: 108\n",
      "Non-zero elements: 24\n",
      "Sparsity: 77.78%\n",
      "\n",
      "EdgestoInter sparsity:\n",
      "Total elements: 48\n",
      "Non-zero elements: 16\n",
      "Sparsity: 66.67%\n"
     ]
    }
   ],
   "source": [
    "# Test with 3x3 grid\n",
    "m = 3\n",
    "n = 3\n",
    "in_channels = 1\n",
    "out_channels = 1\n",
    "nte = NodestoEdges(m,n,in_channels,out_channels)\n",
    "eti = EdgestoInter(m,n,in_channels,out_channels)\n",
    "\n",
    "# Create new input tensor\n",
    "x = torch.randn(in_channels,out_channels,m*n, requires_grad=True)\n",
    "\n",
    "# Forward pass through both layers\n",
    "y = nte(x)\n",
    "print(y.size())\n",
    "z = eti(y)\n",
    "w = z.sum()\n",
    "\n",
    "# Backward pass\n",
    "w.backward()\n",
    "\n",
    "# Print gradients\n",
    "print(\"NodestoEdges weights grad:\", nte.weight.grad)\n",
    "print(\"EdgestoInter weights grad:\", eti.weight.grad)\n",
    "\n",
    "# Print sparsity info for both layers\n",
    "print(\"\\nNodestoEdges sparsity:\")\n",
    "print(f\"Total elements: {nte.delta.size(0) * nte.delta.size(1)}\")\n",
    "print(f\"Non-zero elements: {nte.delta._nnz()}\")\n",
    "print(f\"Sparsity: {1 - nte.delta._nnz()/(nte.delta.size(0) * nte.delta.size(1)):.2%}\")\n",
    "\n",
    "print(\"\\nEdgestoInter sparsity:\")\n",
    "print(f\"Total elements: {eti.delta.size(0) * eti.delta.size(1)}\")\n",
    "print(f\"Non-zero elements: {eti.delta._nnz()}\")\n",
    "print(f\"Sparsity: {1 - eti.delta._nnz()/(eti.delta.size(0) * eti.delta.size(1)):.2%}\")"
   ]
  },
  {
   "cell_type": "markdown",
   "metadata": {},
   "source": [
    "We check if there is a clear pattern we could take advantage of when defining our convolutional layer"
   ]
  },
  {
   "cell_type": "code",
   "execution_count": 21,
   "metadata": {},
   "outputs": [],
   "source": [
    "def symbolic_matrix_with_pattern(m, n, indices_tensor, prefix='a'):\n",
    "    matrix = sp.zeros(m, n)  # Start with m x n zero matrix\n",
    "    \n",
    "    # Convert indices tensor to list of tuples\n",
    "    indices = list(zip(indices_tensor[0].tolist(), indices_tensor[1].tolist()))\n",
    "    \n",
    "    for i, j in indices:\n",
    "        matrix[i, j] = sp.Symbol(f'{prefix}_{i},{j}')\n",
    "    return matrix"
   ]
  },
  {
   "cell_type": "code",
   "execution_count": 22,
   "metadata": {},
   "outputs": [
    {
     "data": {
      "text/latex": [
       "$\\displaystyle \\left[\\begin{matrix}a_{0,0} b_{0,0} + a_{6,0} b_{0,6} & a_{0,1} b_{0,0} + a_{7,1} b_{0,7} & 0 & a_{2,3} b_{0,2} + a_{6,3} b_{0,6} & a_{2,4} b_{0,2} + a_{7,4} b_{0,7} & 0 & 0 & 0 & 0\\\\0 & a_{1,1} b_{1,1} + a_{7,1} b_{1,7} & a_{1,2} b_{1,1} + a_{8,2} b_{1,8} & 0 & a_{3,4} b_{1,3} + a_{7,4} b_{1,7} & a_{3,5} b_{1,3} + a_{8,5} b_{1,8} & 0 & 0 & 0\\\\0 & 0 & 0 & a_{2,3} b_{2,2} + a_{9,3} b_{2,9} & a_{10,4} b_{2,10} + a_{2,4} b_{2,2} & 0 & a_{4,6} b_{2,4} + a_{9,6} b_{2,9} & a_{10,7} b_{2,10} + a_{4,7} b_{2,4} & 0\\\\0 & 0 & 0 & 0 & a_{10,4} b_{3,10} + a_{3,4} b_{3,3} & a_{11,5} b_{3,11} + a_{3,5} b_{3,3} & 0 & a_{10,7} b_{3,10} + a_{5,7} b_{3,5} & a_{11,8} b_{3,11} + a_{5,8} b_{3,5}\\end{matrix}\\right]$"
      ],
      "text/plain": [
       "Matrix([\n",
       "[a_0,0*b_0,0 + a_6,0*b_0,6, a_0,1*b_0,0 + a_7,1*b_0,7,                         0, a_2,3*b_0,2 + a_6,3*b_0,6,   a_2,4*b_0,2 + a_7,4*b_0,7,                           0,                         0,                           0,                           0],\n",
       "[                        0, a_1,1*b_1,1 + a_7,1*b_1,7, a_1,2*b_1,1 + a_8,2*b_1,8,                         0,   a_3,4*b_1,3 + a_7,4*b_1,7,   a_3,5*b_1,3 + a_8,5*b_1,8,                         0,                           0,                           0],\n",
       "[                        0,                         0,                         0, a_2,3*b_2,2 + a_9,3*b_2,9, a_10,4*b_2,10 + a_2,4*b_2,2,                           0, a_4,6*b_2,4 + a_9,6*b_2,9, a_10,7*b_2,10 + a_4,7*b_2,4,                           0],\n",
       "[                        0,                         0,                         0,                         0, a_10,4*b_3,10 + a_3,4*b_3,3, a_11,5*b_3,11 + a_3,5*b_3,3,                         0, a_10,7*b_3,10 + a_5,7*b_3,5, a_11,8*b_3,11 + a_5,8*b_3,5]])"
      ]
     },
     "execution_count": 22,
     "metadata": {},
     "output_type": "execute_result"
    }
   ],
   "source": [
    "# Check the sparsity pattern of the multiplication\n",
    "m = 3\n",
    "n = 3\n",
    "in_channels = 1\n",
    "out_channels = 1\n",
    "nte = NodestoEdges(m,n,in_channels,out_channels)\n",
    "eti = EdgestoInter(m,n,in_channels,out_channels)\n",
    "nte_ix = nte.delta.coalesce().indices()\n",
    "nte_W = symbolic_matrix_with_pattern(m*(n-1)+n*(m-1),m*n, nte_ix)\n",
    "eti_ix = eti.delta.coalesce().indices()\n",
    "eti_W = symbolic_matrix_with_pattern((n-1)*(m-1),m*(n-1)+n*(m-1), eti_ix,'b')\n",
    "eti_W @ nte_W"
   ]
  },
  {
   "cell_type": "code",
   "execution_count": 23,
   "metadata": {},
   "outputs": [
    {
     "name": "stdout",
     "output_type": "stream",
     "text": [
      "Weight shape: torch.Size([2, 2, 24])\n",
      "Gradient shape: torch.Size([2, 2, 24])\n",
      "\n",
      "Are gradients different for different channels?\n",
      "Input channel gradients differ: tensor(True)\n",
      "Output channel gradients differ: tensor(True)\n"
     ]
    }
   ],
   "source": [
    "# Checking the gradients are backpropagating properly\n",
    "nte = NodestoEdges(3, 3, 2, 2)\n",
    "x = torch.randn(1, 2, 9, requires_grad=True)\n",
    "y = nte(x)\n",
    "# Different weighting for different output channels\n",
    "loss = y[:,0,:].sum() + 2*y[:,1,:].sum()  # Weight second channel differently\n",
    "loss.backward()\n",
    "\n",
    "print(\"Weight shape:\", nte.weight.shape)\n",
    "print(\"Gradient shape:\", nte.weight.grad.shape)\n",
    "print(\"\\nAre gradients different for different channels?\")\n",
    "print(\"Input channel gradients differ:\", \n",
    "      torch.any(nte.weight.grad[0,0] != nte.weight.grad[0,1]))\n",
    "print(\"Output channel gradients differ:\", \n",
    "      torch.any(nte.weight.grad[0,0] != nte.weight.grad[1,0]))"
   ]
  },
  {
   "cell_type": "code",
   "execution_count": 24,
   "metadata": {},
   "outputs": [
    {
     "name": "stdout",
     "output_type": "stream",
     "text": [
      "tensor([ 0.0055, -0.8867, -0.8867, -0.6653,  0.6216, -0.6381, -0.6381, -0.5099,\n",
      "         0.2155, -0.1123, -0.1123, -0.8041,  0.0055,  0.6216, -0.8867, -0.6381,\n",
      "        -0.6653, -0.5099,  0.6216,  0.2155, -0.6381, -0.1123, -0.5099, -0.8041])\n",
      "tensor([ 0.1843, -1.1351, -1.1351, -0.2187, -0.0473, -0.1640, -0.1640, -1.5386,\n",
      "         1.0466, -1.0109, -1.0109,  0.8002,  0.1843, -0.0473, -1.1351, -0.1640,\n",
      "        -0.2187, -1.5386, -0.0473,  1.0466, -0.1640, -1.0109, -1.5386,  0.8002])\n"
     ]
    }
   ],
   "source": [
    "print(nte.weight.grad[0,0])\n",
    "print(nte.weight.grad[0,1])"
   ]
  },
  {
   "cell_type": "code",
   "execution_count": 25,
   "metadata": {},
   "outputs": [
    {
     "name": "stdout",
     "output_type": "stream",
     "text": [
      "Weight shape: torch.Size([2, 2, 16])\n",
      "Gradient shape: torch.Size([2, 2, 16])\n",
      "\n",
      "Are gradients different for different channels?\n",
      "Input channel gradients differ: tensor(True)\n",
      "Output channel gradients differ: tensor(True)\n",
      "\n",
      "Sparsity info:\n",
      "Total elements: 48\n",
      "Non-zero elements: 16\n",
      "Sparsity: 66.67%\n"
     ]
    }
   ],
   "source": [
    "# Test with multiple channels\n",
    "eti = EdgestoInter(3, 3, 2, 2)  # 2 input channels, 2 output channels\n",
    "x = torch.randn(1, 2, 12, requires_grad=True)  # Note: input size is 12 (edges) not 9 (pixels)\n",
    "y = eti(x)\n",
    "\n",
    "# Different weighting for output channels like before\n",
    "loss = y[:,0,:].sum() + 2*y[:,1,:].sum()\n",
    "loss.backward()\n",
    "\n",
    "print(\"Weight shape:\", eti.weight.shape)  # Should be [2, 2, 16] (4*k where k=4 for 3x3 grid)\n",
    "print(\"Gradient shape:\", eti.weight.grad.shape)\n",
    "print(\"\\nAre gradients different for different channels?\")\n",
    "print(\"Input channel gradients differ:\", \n",
    "      torch.any(eti.weight.grad[0,0] != eti.weight.grad[0,1]))\n",
    "print(\"Output channel gradients differ:\", \n",
    "      torch.any(eti.weight.grad[0,0] != eti.weight.grad[1,0]))\n",
    "\n",
    "# Check sparsity\n",
    "base_delta = eti.delta.coalesce()\n",
    "print(\"\\nSparsity info:\")\n",
    "print(f\"Total elements: {base_delta.size(0) * base_delta.size(1)}\")\n",
    "print(f\"Non-zero elements: {base_delta._nnz()}\")\n",
    "print(f\"Sparsity: {1 - base_delta._nnz()/(base_delta.size(0) * base_delta.size(1)):.2%}\")"
   ]
  },
  {
   "cell_type": "markdown",
   "metadata": {},
   "source": [
    "Now let's concatenate them"
   ]
  },
  {
   "cell_type": "markdown",
   "metadata": {},
   "source": [
    "We create and test the sheafy convolutional block class SheafyConvBlock"
   ]
  },
  {
   "cell_type": "code",
   "execution_count": 26,
   "metadata": {},
   "outputs": [
    {
     "name": "stdout",
     "output_type": "stream",
     "text": [
      "SheafyConvBlock(\n",
      "  (nodes_to_edges): NodestoEdges()\n",
      "  (edges_to_inter): EdgestoInter()\n",
      ")\n"
     ]
    }
   ],
   "source": [
    "# Using SheafConvBlock with default settings\n",
    "basic_block = SheafyConvBlock(m=3, n=3, in_channels=1, out_channels=32)\n",
    "print(basic_block)"
   ]
  },
  {
   "cell_type": "code",
   "execution_count": 27,
   "metadata": {},
   "outputs": [
    {
     "name": "stdout",
     "output_type": "stream",
     "text": [
      "Test 1: Basic case (in_channels=1)\n",
      "Input shape: torch.Size([1, 1, 3, 3])\n",
      "Output shape: torch.Size([1, 32, 2, 2])\n",
      "\n",
      "Test 2: Multiple channels with end mixing\n",
      "Input shape: torch.Size([1, 16, 3, 3])\n",
      "Output shape: torch.Size([1, 32, 2, 2])\n",
      "\n",
      "Test 3: Mix in middle layer only\n",
      "Input shape: torch.Size([1, 16, 3, 3])\n",
      "Output shape: torch.Size([1, 32, 2, 2])\n",
      "\n",
      "Test 4: No mixing with matching channels\n",
      "Input shape: torch.Size([1, 16, 3, 3])\n",
      "Output shape: torch.Size([1, 16, 2, 2])\n",
      "\n",
      "Test 5: No mixing with different channels\n",
      "Caught expected error: When mix_middle=False and mix_end=False, in_channels must equal out_channels\n",
      "\n",
      "Test 6: Testing backpropagation\n",
      "Input gradients exist: True\n",
      "nodes_to_edges weights gradients exist: True\n",
      "edges_to_inter weights gradients exist: True\n",
      "\n",
      "Test 7: Batch processing\n",
      "Input shape: torch.Size([64, 1, 3, 3])\n",
      "Output shape: torch.Size([64, 32, 2, 2])\n",
      "\n",
      "Test 8: Different spatial dimensions\n",
      "Input shape: torch.Size([1, 1, 28, 28])\n",
      "Output shape: torch.Size([1, 32, 27, 27])\n",
      "\n",
      "Test 9: Wrong spatial dimensions\n",
      "Caught expected error: Input spatial dimensions 4x4 do not match expected 3x3\n"
     ]
    }
   ],
   "source": [
    "# create some tests to check all the modes work\n",
    "def test_sheafy_conv_block():\n",
    "    # Test 1: Basic case with in_channels=1\n",
    "    print(\"Test 1: Basic case (in_channels=1)\")\n",
    "    block1 = SheafyConvBlock(m=3, n=3, in_channels=1, out_channels=32)\n",
    "    x1 = torch.randn(1, 1, 3, 3)  # batch_size=1, channels=1, height=3, width=3\n",
    "    y1 = block1(x1)\n",
    "    print(f\"Input shape: {x1.shape}\")\n",
    "    print(f\"Output shape: {y1.shape}\")  # Should be [1, 32, 2, 2]\n",
    "    \n",
    "    # Test 2: Multiple input channels with mixing at the end\n",
    "    print(\"\\nTest 2: Multiple channels with end mixing\")\n",
    "    block2 = SheafyConvBlock(m=3, n=3, in_channels=16, out_channels=32, \n",
    "                           mix_middle=False, mix_end=True)\n",
    "    x2 = torch.randn(1, 16, 3, 3)\n",
    "    y2 = block2(x2)\n",
    "    print(f\"Input shape: {x2.shape}\")\n",
    "    print(f\"Output shape: {y2.shape}\")\n",
    "    \n",
    "    # Test 3: Mix in middle layer only\n",
    "    print(\"\\nTest 3: Mix in middle layer only\")\n",
    "    block3 = SheafyConvBlock(m=3, n=3, in_channels=16, out_channels=32,\n",
    "                           mix_middle=True, mix_end=False)\n",
    "    x3 = torch.randn(1, 16, 3, 3)\n",
    "    y3 = block3(x3)\n",
    "    print(f\"Input shape: {x3.shape}\")\n",
    "    print(f\"Output shape: {y3.shape}\")\n",
    "    \n",
    "    # Test 4: No mixing case with matching channels\n",
    "    print(\"\\nTest 4: No mixing with matching channels\")\n",
    "    block4 = SheafyConvBlock(m=3, n=3, in_channels=16, out_channels=16,\n",
    "                           mix_middle=False, mix_end=False)\n",
    "    x4 = torch.randn(1, 16, 3, 3)\n",
    "    y4 = block4(x4)\n",
    "    print(f\"Input shape: {x4.shape}\")\n",
    "    print(f\"Output shape: {y4.shape}\")\n",
    "    \n",
    "    # Test 5: No mixing case with different channels (should raise error)\n",
    "    print(\"\\nTest 5: No mixing with different channels\")\n",
    "    try:\n",
    "        block5 = SheafyConvBlock(m=3, n=3, in_channels=16, out_channels=32, \n",
    "                               mix_middle=False, mix_end=False)\n",
    "    except AssertionError as e:\n",
    "        print(f\"Caught expected error: {e}\")\n",
    "    \n",
    "    # Test 6: Test backpropagation\n",
    "    print(\"\\nTest 6: Testing backpropagation\")\n",
    "    block6 = SheafyConvBlock(m=3, n=3, in_channels=1, out_channels=32)\n",
    "    x6 = torch.randn(1, 1, 3, 3, requires_grad=True)\n",
    "    y6 = block6(x6)\n",
    "    loss = y6.sum()\n",
    "    loss.backward()\n",
    "    print(f\"Input gradients exist: {x6.grad is not None}\")\n",
    "    print(f\"nodes_to_edges weights gradients exist: {block6.nodes_to_edges.weight.grad is not None}\")\n",
    "    print(f\"edges_to_inter weights gradients exist: {block6.edges_to_inter.weight.grad is not None}\")\n",
    "    \n",
    "    # Test 7: Batch processing\n",
    "    print(\"\\nTest 7: Batch processing\")\n",
    "    block7 = SheafyConvBlock(m=3, n=3, in_channels=1, out_channels=32)\n",
    "    x7 = torch.randn(64, 1, 3, 3)  # batch_size=64\n",
    "    y7 = block7(x7)\n",
    "    print(f\"Input shape: {x7.shape}\")\n",
    "    print(f\"Output shape: {y7.shape}\")\n",
    "    \n",
    "    # Test 8: Different spatial dimensions\n",
    "    print(\"\\nTest 8: Different spatial dimensions\")\n",
    "    block8 = SheafyConvBlock(m=28, n=28, in_channels=1, out_channels=32)\n",
    "    x8 = torch.randn(1, 1, 28, 28)  # typical MNIST image size\n",
    "    y8 = block8(x8)\n",
    "    print(f\"Input shape: {x8.shape}\")\n",
    "    print(f\"Output shape: {y8.shape}\")\n",
    "    \n",
    "    # Test 9: Wrong spatial dimensions (should raise error)\n",
    "    print(\"\\nTest 9: Wrong spatial dimensions\")\n",
    "    block9 = SheafyConvBlock(m=3, n=3, in_channels=1, out_channels=32)\n",
    "    x9 = torch.randn(1, 1, 4, 4)  # wrong size\n",
    "    try:\n",
    "        y9 = block9(x9)\n",
    "    except AssertionError as e:\n",
    "        print(f\"Caught expected error: {e}\")\n",
    "\n",
    "# Run the tests\n",
    "test_sheafy_conv_block()"
   ]
  },
  {
   "cell_type": "code",
   "execution_count": 28,
   "metadata": {},
   "outputs": [
    {
     "data": {
      "image/png": "[encoded data removed]",
      "text/plain": [
       "<Figure size 1500x400 with 3 Axes>"
      ]
     },
     "metadata": {},
     "output_type": "display_data"
    },
    {
     "name": "stdout",
     "output_type": "stream",
     "text": [
      "Original image shape: torch.Size([1, 28, 28])\n",
      "Input shape (with batch dim): torch.Size([1, 1, 28, 28])\n",
      "After SheafyConv shape: torch.Size([1, 32, 27, 27])\n",
      "After MaxPool shape: torch.Size([1, 32, 13, 13])\n"
     ]
    }
   ],
   "source": [
    "# Check the output of an image to see we have handle the dimensions correctly\n",
    "\n",
    "# Load MNIST dataset and get one image\n",
    "transform = transforms.ToTensor()\n",
    "mnist_dataset = torchvision.datasets.MNIST(root='./data', train=True, \n",
    "                                         download=True, transform=transform)\n",
    "image, _ = mnist_dataset[0]  # Get first image\n",
    "\n",
    "# Create a small network with SheafyConvBlock and MaxPool2d\n",
    "class SmallSheafyNet(nn.Module):\n",
    "    def __init__(self):\n",
    "        super().__init__()\n",
    "        self.conv = SheafyConvBlock(m=28, n=28, in_channels=1, out_channels=32)\n",
    "        self.pool = nn.MaxPool2d(kernel_size=2, stride=2)\n",
    "    \n",
    "    def forward(self, x):\n",
    "        x = self.conv(x)\n",
    "        x = self.pool(x)\n",
    "        return x\n",
    "\n",
    "# Create network and process image\n",
    "net = SmallSheafyNet()\n",
    "with torch.no_grad():  # No need for gradients in visualization\n",
    "    x = image.unsqueeze(0)  # Add batch dimension: [1, 1, 28, 28]\n",
    "    conv_out = net.conv(x)\n",
    "    pooled_out = net.pool(conv_out)\n",
    "\n",
    "# Setup the plot\n",
    "plt.figure(figsize=(15, 4))\n",
    "\n",
    "# Show original image\n",
    "plt.subplot(131)\n",
    "plt.imshow(image.squeeze(), cmap='gray')\n",
    "plt.title('Original Image (28x28)')\n",
    "plt.axis('off')\n",
    "\n",
    "# Show output after sheafy convolution (show first channel)\n",
    "plt.subplot(132)\n",
    "plt.imshow(conv_out[0, 0].detach(), cmap='gray')\n",
    "plt.title('After SheafyConv (27x27)')\n",
    "plt.axis('off')\n",
    "\n",
    "# Show output after pooling (show first channel)\n",
    "plt.subplot(133)\n",
    "plt.imshow(pooled_out[0, 0].detach(), cmap='gray')\n",
    "plt.title('After MaxPool (13x13)')\n",
    "plt.axis('off')\n",
    "\n",
    "plt.tight_layout()\n",
    "plt.show()\n",
    "\n",
    "# Print shapes at each step\n",
    "print(f\"Original image shape: {image.shape}\")\n",
    "print(f\"Input shape (with batch dim): {x.shape}\")\n",
    "print(f\"After SheafyConv shape: {conv_out.shape}\")\n",
    "print(f\"After MaxPool shape: {pooled_out.shape}\")"
   ]
  },
  {
   "cell_type": "markdown",
   "metadata": {},
   "source": [
    "Now we define and test the sheafy neural network class SheafyNet"
   ]
  },
  {
   "cell_type": "code",
   "execution_count": 29,
   "metadata": {},
   "outputs": [
    {
     "name": "stdout",
     "output_type": "stream",
     "text": [
      "Test 1: Basic instantiation\n",
      "\n",
      "Default SheafyNet:\n",
      "SheafyNet(\n",
      "  (sheafy_layers): ModuleList(\n",
      "    (0-1): 2 x SheafyConvBlock(\n",
      "      (nodes_to_edges): NodestoEdges()\n",
      "      (edges_to_inter): EdgestoInter()\n",
      "    )\n",
      "  )\n",
      "  (fc_layers): ModuleList(\n",
      "    (0): Linear(in_features=2304, out_features=512, bias=True)\n",
      "  )\n",
      "  (fc_out): Linear(in_features=512, out_features=10, bias=True)\n",
      "  (pool): MaxPool2d(kernel_size=2, stride=2, padding=0, dilation=1, ceil_mode=False)\n",
      "  (dropout): Dropout(p=0.25, inplace=False)\n",
      ")\n",
      "Total parameters: 2,481,338\n",
      "Input shape: torch.Size([1, 1, 28, 28])\n",
      "Output shape: torch.Size([1, 10])\n",
      "\n",
      "Test 2: Custom architecture\n",
      "\n",
      "Custom SheafyNet:\n",
      "SheafyNet(\n",
      "  (sheafy_layers): ModuleList(\n",
      "    (0-2): 3 x SheafyConvBlock(\n",
      "      (nodes_to_edges): NodestoEdges()\n",
      "      (edges_to_inter): EdgestoInter()\n",
      "    )\n",
      "  )\n",
      "  (fc_layers): ModuleList(\n",
      "    (0): Linear(in_features=256, out_features=256, bias=True)\n",
      "    (1): Linear(in_features=256, out_features=128, bias=True)\n",
      "  )\n",
      "  (fc_out): Linear(in_features=128, out_features=10, bias=True)\n",
      "  (pool): MaxPool2d(kernel_size=2, stride=2, padding=0, dilation=1, ceil_mode=False)\n",
      "  (dropout): Dropout(p=0.25, inplace=False)\n",
      ")\n",
      "Total parameters: 785,322\n",
      "Input shape: torch.Size([1, 1, 28, 28])\n",
      "Output shape: torch.Size([1, 10])\n",
      "\n",
      "Test 3: Different mixing strategies\n",
      "\n",
      "Mixed strategies SheafyNet:\n",
      "SheafyNet(\n",
      "  (sheafy_layers): ModuleList(\n",
      "    (0-1): 2 x SheafyConvBlock(\n",
      "      (nodes_to_edges): NodestoEdges()\n",
      "      (edges_to_inter): EdgestoInter()\n",
      "    )\n",
      "  )\n",
      "  (fc_layers): ModuleList(\n",
      "    (0): Linear(in_features=1152, out_features=512, bias=True)\n",
      "  )\n",
      "  (fc_out): Linear(in_features=512, out_features=10, bias=True)\n",
      "  (pool): MaxPool2d(kernel_size=2, stride=2, padding=0, dilation=1, ceil_mode=False)\n",
      "  (dropout): Dropout(p=0.25, inplace=False)\n",
      ")\n",
      "Total parameters: 995,466\n",
      "\n",
      "Test 4: Batch processing\n",
      "Input shape: torch.Size([64, 1, 28, 28])\n",
      "Output shape: torch.Size([64, 10])\n",
      "\n",
      "Test 5: Testing backpropagation\n",
      "Input gradients exist: True\n",
      "First sheafy layer weights have gradients: True\n",
      "First FC layer weights have gradients: True\n",
      "\n",
      "Test 6: Size calculation verification\n",
      "Size progression through network:\n",
      "Input: torch.Size([1, 1, 28, 28])\n",
      "After sheafy layer 0: torch.Size([1, 32, 27, 27])\n",
      "After pooling 0: torch.Size([1, 32, 13, 13])\n",
      "After sheafy layer 1: torch.Size([1, 64, 12, 12])\n",
      "After pooling 1: torch.Size([1, 64, 6, 6])\n",
      "\n",
      "Test 7: Save and load functionality\n"
     ]
    },
    {
     "name": "stderr",
     "output_type": "stream",
     "text": [
      "c:\\Users\\vicen\\Documents\\PhD\\classes\\GNNs\\SCNN.py:1189: FutureWarning: You are using `torch.load` with `weights_only=False` (the current default value), which uses the default pickle module implicitly. It is possible to construct malicious pickle data which will execute arbitrary code during unpickling (See https://github.com/pytorch/pytorch/blob/main/SECURITY.md#untrusted-models for more details). In a future release, the default value for `weights_only` will be flipped to `True`. This limits the functions that could be executed during unpickling. Arbitrary objects will no longer be allowed to be loaded via this mode unless they are explicitly allowlisted by the user via `torch.serialization.add_safe_globals`. We recommend you start setting `weights_only=True` for any use case where you don't have full control of the loaded file. Please open an issue on GitHub for any issues related to this experimental feature.\n",
      "  checkpoint = torch.load(path)\n"
     ]
    },
    {
     "name": "stdout",
     "output_type": "stream",
     "text": [
      "Outputs match after save/load: True\n"
     ]
    }
   ],
   "source": [
    "# Define some tests to check everything works\n",
    "\n",
    "def test_sheafy_net():\n",
    "    # Test 1: Basic instantiation with default parameters\n",
    "    print(\"Test 1: Basic instantiation\")\n",
    "    net1 = SheafyNet()\n",
    "    net1.print_model_info(\"Default SheafyNet\")\n",
    "    x1 = torch.randn(1, 1, 28, 28)  # Single MNIST image\n",
    "    y1 = net1(x1)\n",
    "    print(f\"Input shape: {x1.shape}\")\n",
    "    print(f\"Output shape: {y1.shape}\")\n",
    "    \n",
    "    # Test 2: Custom architecture\n",
    "    print(\"\\nTest 2: Custom architecture\")\n",
    "    net2 = SheafyNet(\n",
    "        in_channels=1,\n",
    "        sheafy_channels=[16, 32, 64],  # Three sheafy layers\n",
    "        mix_middle=True,\n",
    "        mix_end=False,\n",
    "        inner_bias=True,\n",
    "        inner_activation=F.relu,\n",
    "        fc_features=[256, 128],  # Two FC layers\n",
    "        input_size=28\n",
    "    )\n",
    "    net2.print_model_info(\"Custom SheafyNet\")\n",
    "    x2 = torch.randn(1, 1, 28, 28)\n",
    "    y2 = net2(x2)\n",
    "    print(f\"Input shape: {x2.shape}\")\n",
    "    print(f\"Output shape: {y2.shape}\")\n",
    "    \n",
    "    # Test 3: Different mixing strategies per layer\n",
    "    print(\"\\nTest 3: Different mixing strategies\")\n",
    "    net3 = SheafyNet(\n",
    "        sheafy_channels=[16, 32],\n",
    "        mix_middle=[True, False],\n",
    "        mix_end=[False, True],\n",
    "        inner_bias=[True, False]\n",
    "    )\n",
    "    net3.print_model_info(\"Mixed strategies SheafyNet\")\n",
    "    \n",
    "    # Test 4: Batch processing\n",
    "    print(\"\\nTest 4: Batch processing\")\n",
    "    net4 = SheafyNet()\n",
    "    x4 = torch.randn(64, 1, 28, 28)  # batch_size=64\n",
    "    y4 = net4(x4)\n",
    "    print(f\"Input shape: {x4.shape}\")\n",
    "    print(f\"Output shape: {y4.shape}\")\n",
    "    \n",
    "    # Test 5: Test backpropagation\n",
    "    print(\"\\nTest 5: Testing backpropagation\")\n",
    "    net5 = SheafyNet()\n",
    "    x5 = torch.randn(1, 1, 28, 28, requires_grad=True)\n",
    "    y5 = net5(x5)\n",
    "    loss = y5.sum()\n",
    "    loss.backward()\n",
    "    print(f\"Input gradients exist: {x5.grad is not None}\")\n",
    "    print(f\"First sheafy layer weights have gradients: {net5.sheafy_layers[0].nodes_to_edges.weight.grad is not None}\")\n",
    "    print(f\"First FC layer weights have gradients: {net5.fc_layers[0].weight.grad is not None}\")\n",
    "    \n",
    "    # Test 6: Size calculation verification\n",
    "    print(\"\\nTest 6: Size calculation verification\")\n",
    "    net6 = SheafyNet(sheafy_channels=[32, 64])\n",
    "    sizes = []\n",
    "    x6 = torch.randn(1, 1, 28, 28)\n",
    "    \n",
    "    # Track sizes through the network\n",
    "    sizes.append(x6.size())\n",
    "    x = x6\n",
    "    for i, layer in enumerate(net6.sheafy_layers):\n",
    "        x = layer(x)\n",
    "        sizes.append(x.size())\n",
    "        x = net6.activation(x)\n",
    "        x = net6.pool(x)\n",
    "        sizes.append(x.size())\n",
    "    \n",
    "    print(\"Size progression through network:\")\n",
    "    for i, size in enumerate(sizes):\n",
    "        if i == 0:\n",
    "            print(f\"Input: {size}\")\n",
    "        elif i % 2 == 1:\n",
    "            print(f\"After sheafy layer {i//2}: {size}\")\n",
    "        else:\n",
    "            print(f\"After pooling {(i-1)//2}: {size}\")\n",
    "    \n",
    "    # Test 7: Save and load\n",
    "    print(\"\\nTest 7: Save and load functionality\")\n",
    "    net7 = SheafyNet()\n",
    "    net7.eval()  # Set to evaluation mode\n",
    "    x7 = torch.randn(1, 1, 28, 28)\n",
    "    \n",
    "    with torch.no_grad():  # Disable gradient computation\n",
    "        y7_before = net7(x7)\n",
    "        \n",
    "        # Save and load\n",
    "        net7.save(\"test_model.pth\")\n",
    "        loaded_net = SheafyNet.load(\"test_model.pth\")\n",
    "        loaded_net.eval()  # Set loaded model to evaluation mode\n",
    "        y7_after = loaded_net(x7)\n",
    "        \n",
    "        print(f\"Outputs match after save/load: {torch.allclose(y7_before, y7_after, rtol=1e-4, atol=1e-4)}\")\n",
    "    \n",
    "    # Clean up\n",
    "    import os\n",
    "    if os.path.exists(\"test_model.pth\"):\n",
    "        os.remove(\"test_model.pth\")\n",
    "\n",
    "# Run the tests\n",
    "if __name__ == \"__main__\":\n",
    "    test_sheafy_net()"
   ]
  },
  {
   "cell_type": "code",
   "execution_count": 30,
   "metadata": {},
   "outputs": [],
   "source": [
    "# # Already done\n",
    "# # 2. Set random seed for reproducibility\n",
    "# torch.manual_seed(42)\n",
    "\n",
    "# # 3. Define transforms and load datasets\n",
    "# transform = transforms.Compose([\n",
    "#     transforms.ToTensor(),\n",
    "#     transforms.Normalize((0.1307,), (0.3081,))  # MNIST specific mean and std\n",
    "# ])\n",
    "\n",
    "# # Load MNIST dataset\n",
    "# train_dataset = torchvision.datasets.MNIST(\n",
    "#     root='./data', \n",
    "#     train=True,\n",
    "#     download=True,\n",
    "#     transform=transform\n",
    "# )\n",
    "\n",
    "# test_dataset = torchvision.datasets.MNIST(\n",
    "#     root='./data', \n",
    "#     train=False,\n",
    "#     download=True,\n",
    "#     transform=transform\n",
    "# )\n",
    "\n"
   ]
  },
  {
   "cell_type": "markdown",
   "metadata": {},
   "source": [
    "We load an already trained model. For the training process see commented code below"
   ]
  },
  {
   "cell_type": "code",
   "execution_count": 31,
   "metadata": {},
   "outputs": [
    {
     "name": "stdout",
     "output_type": "stream",
     "text": [
      "\n",
      "SheafyNet Model:\n",
      "SheafyNet(\n",
      "  (sheafy_layers): ModuleList(\n",
      "    (0-1): 2 x SheafyConvBlock(\n",
      "      (nodes_to_edges): NodestoEdges()\n",
      "      (edges_to_inter): EdgestoInter()\n",
      "    )\n",
      "  )\n",
      "  (fc_layers): ModuleList(\n",
      "    (0): Linear(in_features=1152, out_features=512, bias=True)\n",
      "  )\n",
      "  (fc_out): Linear(in_features=512, out_features=10, bias=True)\n",
      "  (pool): MaxPool2d(kernel_size=2, stride=2, padding=0, dilation=1, ceil_mode=False)\n",
      "  (dropout): Dropout(p=0.25, inplace=False)\n",
      ")\n",
      "Total parameters: 950,090\n"
     ]
    },
    {
     "name": "stderr",
     "output_type": "stream",
     "text": [
      "c:\\Users\\vicen\\Documents\\PhD\\classes\\GNNs\\SCNN.py:358: FutureWarning: You are using `torch.load` with `weights_only=False` (the current default value), which uses the default pickle module implicitly. It is possible to construct malicious pickle data which will execute arbitrary code during unpickling (See https://github.com/pytorch/pytorch/blob/main/SECURITY.md#untrusted-models for more details). In a future release, the default value for `weights_only` will be flipped to `True`. This limits the functions that could be executed during unpickling. Arbitrary objects will no longer be allowed to be loaded via this mode unless they are explicitly allowlisted by the user via `torch.serialization.add_safe_globals`. We recommend you start setting `weights_only=True` for any use case where you don't have full control of the loaded file. Please open an issue on GitHub for any issues related to this experimental feature.\n",
      "  checkpoint = torch.load(path)\n"
     ]
    }
   ],
   "source": [
    "# First load the model\n",
    "sheafy_model = SheafyNet.load('sheafy_model_small_2_layers.pth')\n",
    "sheafy_model.print_model_info(\"SheafyNet Model\")\n",
    "\n",
    "# Then create a trainer with this model\n",
    "sheafy_trainer = create_trainer(sheafy_model, train_dataset, test_dataset)\n",
    "\n",
    "# Finally load the training state\n",
    "sheafy_trainer.load_training_state('sheafy_model_small_2_layers_training.pth')"
   ]
  },
  {
   "cell_type": "code",
   "execution_count": 32,
   "metadata": {},
   "outputs": [],
   "source": [
    "# # 4. Create SheafyNet model\n",
    "# sheafy_model = SheafyNet(sheafy_channels=[16,32])\n",
    "# # 5. Create trainer\n",
    "# sheafy_trainer = create_trainer(\n",
    "#     model=sheafy_model,\n",
    "#     train_dataset=train_dataset,\n",
    "#     test_dataset=test_dataset,\n",
    "#     batch_size=64,\n",
    "#     learning_rate=0.001,\n",
    "#     patience=5\n",
    "# )\n",
    "# # 6. Print model information\n",
    "# sheafy_model.print_model_info(\"SheafyNet Model\")\n",
    "\n",
    "# output\n",
    "# SheafyNet Model:\n",
    "# SheafyNet(\n",
    "#   (sheafy_layers): ModuleList(\n",
    "#     (0-1): 2 x SheafyConvBlock(\n",
    "#       (nodes_to_edges): NodestoEdges()\n",
    "#       (edges_to_inter): EdgestoInter()\n",
    "#     )\n",
    "#   )\n",
    "#   (fc_layers): ModuleList(\n",
    "#     (0): Linear(in_features=1152, out_features=512, bias=True)\n",
    "#   )\n",
    "#   (fc_out): Linear(in_features=512, out_features=10, bias=True)\n",
    "#   (pool): MaxPool2d(kernel_size=2, stride=2, padding=0, dilation=1, ceil_mode=False)\n",
    "#   (dropout): Dropout(p=0.25, inplace=False)\n",
    "# )\n",
    "# Total parameters: 950,090"
   ]
  },
  {
   "cell_type": "code",
   "execution_count": 33,
   "metadata": {},
   "outputs": [],
   "source": [
    "# # 7. Train the model\n",
    "# train_losses, val_losses, test_accuracies = sheafy_trainer.train(\n",
    "#     epochs=20, \n",
    "#     save_path='sheafy_model_small_2_layers.pth'\n",
    "# )"
   ]
  },
  {
   "cell_type": "code",
   "execution_count": 34,
   "metadata": {},
   "outputs": [
    {
     "name": "stdout",
     "output_type": "stream",
     "text": [
      "Model Performance Analysis\n",
      "==================================================\n"
     ]
    },
    {
     "data": {
      "image/png": "[encoded data removed]",
      "text/plain": [
       "<Figure size 1500x500 with 2 Axes>"
      ]
     },
     "metadata": {},
     "output_type": "display_data"
    },
    {
     "name": "stdout",
     "output_type": "stream",
     "text": [
      "\n",
      "Final Metrics:\n",
      "Best Test Accuracy: 98.23%\n",
      "Final Training Loss: 0.0300\n",
      "Final Validation Loss: 0.0708\n",
      "\n",
      "Learning Convergence Analysis:\n",
      "Total Epochs Trained: 13\n",
      "Epoch with Best Performance: 13\n",
      "Recent Improvement (last 5 epochs): 0.001288\n",
      "\n",
      "Detailed Prediction Analysis:\n"
     ]
    },
    {
     "data": {
      "image/png": "[encoded data removed]",
      "text/plain": [
       "<Figure size 1000x800 with 2 Axes>"
      ]
     },
     "metadata": {},
     "output_type": "display_data"
    },
    {
     "data": {
      "image/png": "[encoded data removed]",
      "text/plain": [
       "<Figure size 2000x400 with 10 Axes>"
      ]
     },
     "metadata": {},
     "output_type": "display_data"
    },
    {
     "name": "stdout",
     "output_type": "stream",
     "text": [
      "\n",
      "Per-class Analysis:\n",
      "              precision    recall  f1-score   support\n",
      "\n",
      "           0       0.99      0.99      0.99       980\n",
      "           1       0.99      0.99      0.99      1135\n",
      "           2       0.99      0.97      0.98      1032\n",
      "           3       0.97      0.99      0.98      1010\n",
      "           4       0.98      0.98      0.98       982\n",
      "           5       0.98      0.98      0.98       892\n",
      "           6       0.98      0.98      0.98       958\n",
      "           7       0.98      0.98      0.98      1028\n",
      "           8       0.99      0.97      0.98       974\n",
      "           9       0.97      0.99      0.97      1009\n",
      "\n",
      "    accuracy                           0.98     10000\n",
      "   macro avg       0.98      0.98      0.98     10000\n",
      "weighted avg       0.98      0.98      0.98     10000\n",
      "\n",
      "\n",
      "Model Complexity:\n",
      "Total Parameters: 950,090\n",
      "Trainable Parameters: 950,090\n"
     ]
    }
   ],
   "source": [
    "# 8. Analyze performance\n",
    "sheafy_trainer.analyze_performance()"
   ]
  },
  {
   "cell_type": "markdown",
   "metadata": {},
   "source": [
    "The model performs decently but worse than the regular CNN. It has also more parameters and it is curently slower. The more parameters part is something that can be argued. The slower part is something that can be fixed by properly implementing some sparse multiplications (in te process)"
   ]
  },
  {
   "cell_type": "code",
   "execution_count": 35,
   "metadata": {},
   "outputs": [],
   "source": [
    "# Then run the drawing application\n",
    "# After training or loading your model\n",
    "# model = MNISTConvNet.load('best_model.pth')  # Or use trainer.model after training\n",
    "app = DigitDrawer(sheafy_model)\n",
    "app.run()"
   ]
  },
  {
   "cell_type": "markdown",
   "metadata": {},
   "source": [
    "## Developing... "
   ]
  },
  {
   "cell_type": "markdown",
   "metadata": {},
   "source": [
    "Ignore below"
   ]
  },
  {
   "cell_type": "code",
   "execution_count": 36,
   "metadata": {},
   "outputs": [],
   "source": [
    "class SheafyConvBlock(nn.Module):\n",
    "    def __init__(self, m, n, in_channels, out_channels, bias=True, \n",
    "                 mix_middle=False, mix_end=True, inner_bias=False, \n",
    "                 inner_activation=None):\n",
    "        super().__init__()\n",
    "\n",
    "        self.m = m\n",
    "        self.n = n\n",
    "\n",
    "        # Check that channels match when no mixing is allowed\n",
    "        if not mix_middle and not mix_end and in_channels != out_channels:\n",
    "            raise AssertionError(\"When mix_middle=False and mix_end=False, in_channels must equal out_channels\")\n",
    "\n",
    "        # Determine the number of middle channels\n",
    "        # when in_channels = 1 is recommendable to set mix_middle=True\n",
    "        # to exapand the dimension from the first layer\n",
    "        # when in_channels > 1 keep everything by default\n",
    "        if mix_middle:\n",
    "            mid_channels = out_channels\n",
    "        else:\n",
    "            mid_channels = in_channels\n",
    "        \n",
    "        # Create the layers\n",
    "        self.nodes_to_edges = NodestoEdges(\n",
    "            m=m, n=n, \n",
    "            in_channels=in_channels, \n",
    "            out_channels=mid_channels,\n",
    "            mix_channels=mix_middle,\n",
    "            bias=inner_bias  # Changed from bias=inner_bias to just bias=inner_bias\n",
    "        )\n",
    "\n",
    "        # when mix_middle=True, it is recommendable to set mix_end=False\n",
    "        # to keep things parallel and avoid mixing twice\n",
    "        self.edges_to_inter = EdgestoInter(\n",
    "            m=m, n=n,\n",
    "            in_channels=mid_channels,\n",
    "            out_channels=out_channels,\n",
    "            mix_channels=mix_end,\n",
    "            bias=bias\n",
    "        )\n",
    "        \n",
    "        # Optional inner activation\n",
    "        self.inner_activation = inner_activation\n",
    "        \n",
    "    \n",
    "    def forward(self, x):\n",
    "        import time\n",
    "        start = time.time()\n",
    "        \n",
    "        # Input shape: [batch_size, channels, H, W]\n",
    "        batch_size, channels, H, W = x.size()\n",
    "        \n",
    "        # Flatten spatial dimensions\n",
    "        x = x.view(batch_size, channels, -1)\n",
    "        t1 = time.time()\n",
    "        print(f\"Flatten time: {t1 - start:.4f}s\")\n",
    "        \n",
    "        # Apply sheaf operations\n",
    "        x = self.nodes_to_edges(x)\n",
    "        t2 = time.time()\n",
    "        print(f\"Nodes to edges time: {t2 - t1:.4f}s\")\n",
    "        \n",
    "        if self.inner_activation is not None:\n",
    "            x = self.inner_activation(x)\n",
    "        t3 = time.time()\n",
    "        print(f\"Inner activation time: {t3 - t2:.4f}s\")\n",
    "        \n",
    "        x = self.edges_to_inter(x)\n",
    "        t4 = time.time()\n",
    "        print(f\"Edges to inter time: {t4 - t3:.4f}s\")\n",
    "        \n",
    "        # Reshape back to 2D\n",
    "        x = x.view(batch_size, -1, self.m-1, self.n-1)\n",
    "        end = time.time()\n",
    "        print(f\"Reshape time: {end - t4:.4f}s\")\n",
    "        print(f\"Total block time: {end - start:.4f}s\")\n",
    "        \n",
    "        return x"
   ]
  },
  {
   "cell_type": "code",
   "execution_count": 37,
   "metadata": {},
   "outputs": [
    {
     "name": "stdout",
     "output_type": "stream",
     "text": [
      "Checking data loaders:\n",
      "Training batches: 1688\n",
      "Validation batches: 188\n",
      "Test batches: 313\n",
      "\n",
      "Testing one batch:\n",
      "Batch 0 shape: torch.Size([32, 1, 28, 28])\n",
      "Output shape: torch.Size([32, 10])\n"
     ]
    }
   ],
   "source": [
    "# First, let's try a smaller batch to see if the processing is happening\n",
    "sheafy_trainer = create_trainer(\n",
    "    model=sheafy_model,\n",
    "    train_dataset=train_dataset,\n",
    "    test_dataset=test_dataset,\n",
    "    batch_size=32,  # Reduced from 64\n",
    "    learning_rate=0.001,\n",
    "    patience=5\n",
    ")\n",
    "\n",
    "# Before training, let's verify data is loading correctly\n",
    "print(\"Checking data loaders:\")\n",
    "print(f\"Training batches: {len(sheafy_trainer.train_loader)}\")\n",
    "print(f\"Validation batches: {len(sheafy_trainer.val_loader)}\")\n",
    "print(f\"Test batches: {len(sheafy_trainer.test_loader)}\")\n",
    "\n",
    "# Add a small test forward pass\n",
    "print(\"\\nTesting one batch:\")\n",
    "for batch_idx, (data, target) in enumerate(sheafy_trainer.train_loader):\n",
    "    print(f\"Batch {batch_idx} shape: {data.shape}\")\n",
    "    output = sheafy_model(data)\n",
    "    print(f\"Output shape: {output.shape}\")\n",
    "    if batch_idx == 0:  # Just test first batch\n",
    "        break"
   ]
  },
  {
   "cell_type": "code",
   "execution_count": 38,
   "metadata": {},
   "outputs": [
    {
     "name": "stdout",
     "output_type": "stream",
     "text": [
      "\n",
      "Testing one batch with timing:\n",
      "\n",
      "Processing batch 0:\n",
      "Input shape: torch.Size([32, 1, 28, 28])\n",
      "First sheafy layer time: 0.0094s\n",
      "First activation and pool time: 0.0015s\n",
      "Second sheafy layer time: 0.0726s\n",
      "Second activation and pool time: 0.0000s\n",
      "Flatten time: 0.0000s\n",
      "FC layers time: 0.0010s\n",
      "Output layer time: 0.0050s\n",
      "\n",
      "Total forward pass time: 0.0895s\n",
      "Output shape: torch.Size([32, 10])\n"
     ]
    }
   ],
   "source": [
    "print(\"\\nTesting one batch with timing:\")\n",
    "for batch_idx, (data, target) in enumerate(sheafy_trainer.train_loader):\n",
    "    print(f\"\\nProcessing batch {batch_idx}:\")\n",
    "    import time\n",
    "    start = time.time()\n",
    "    \n",
    "    print(f\"Input shape: {data.shape}\")\n",
    "    x = sheafy_model.sheafy_layers[0](data)  # Time first sheafy layer\n",
    "    t1 = time.time()\n",
    "    print(f\"First sheafy layer time: {t1 - start:.4f}s\")\n",
    "    \n",
    "    x = sheafy_model.activation(x)\n",
    "    x = sheafy_model.pool(x)\n",
    "    t2 = time.time()\n",
    "    print(f\"First activation and pool time: {t2 - t1:.4f}s\")\n",
    "    \n",
    "    x = sheafy_model.sheafy_layers[1](x)  # Time second sheafy layer\n",
    "    t3 = time.time()\n",
    "    print(f\"Second sheafy layer time: {t3 - t2:.4f}s\")\n",
    "    \n",
    "    x = sheafy_model.activation(x)\n",
    "    x = sheafy_model.pool(x)\n",
    "    t4 = time.time()\n",
    "    print(f\"Second activation and pool time: {t4 - t3:.4f}s\")\n",
    "    \n",
    "    x = x.view(-1, sheafy_model.flatten_size)\n",
    "    t5 = time.time()\n",
    "    print(f\"Flatten time: {t5 - t4:.4f}s\")\n",
    "    \n",
    "    for fc in sheafy_model.fc_layers:\n",
    "        x = fc(x)\n",
    "        x = sheafy_model.activation(x)\n",
    "        x = sheafy_model.dropout(x)\n",
    "    t6 = time.time()\n",
    "    print(f\"FC layers time: {t6 - t5:.4f}s\")\n",
    "    \n",
    "    output = sheafy_model.fc_out(x)\n",
    "    output = F.log_softmax(output, dim=1)\n",
    "    end = time.time()\n",
    "    print(f\"Output layer time: {end - t6:.4f}s\")\n",
    "    \n",
    "    print(f\"\\nTotal forward pass time: {end - start:.4f}s\")\n",
    "    print(f\"Output shape: {output.shape}\")\n",
    "    \n",
    "    if batch_idx == 0:  # Just test first batch\n",
    "        break"
   ]
  },
  {
   "cell_type": "code",
   "execution_count": 39,
   "metadata": {},
   "outputs": [
    {
     "name": "stdout",
     "output_type": "stream",
     "text": [
      "Running on cpu\n",
      "Input shape: torch.Size([32, 16, 28, 28])\n",
      "Flatten time: 0.0000s\n",
      "Nodes to edges time: 0.0582s\n",
      "Inner activation time: 0.0010s\n",
      "Edges to inter time: 0.2808s\n",
      "Reshape time: 0.0000s\n",
      "Total block time: 0.3400s\n",
      "Flatten time: 0.0013s\n",
      "Nodes to edges time: 0.0040s\n",
      "Inner activation time: 0.0010s\n",
      "Edges to inter time: 0.2155s\n",
      "Reshape time: 0.0000s\n",
      "Total block time: 0.2218s\n",
      "Output shape: torch.Size([32, 32, 27, 27])\n"
     ]
    }
   ],
   "source": [
    "def test_sheafy_block():\n",
    "    # Create a small test input\n",
    "    batch_size = 32\n",
    "    in_channels = 16\n",
    "    m, n = 28, 28  # MNIST image size\n",
    "    \n",
    "    # Initialize the block\n",
    "    block = SheafyConvBlock(\n",
    "        m=m, \n",
    "        n=n, \n",
    "        in_channels=in_channels,\n",
    "        out_channels=32,\n",
    "        inner_activation=torch.nn.ReLU()\n",
    "    )\n",
    "    \n",
    "    # Create random input tensor\n",
    "    x = torch.randn(batch_size, in_channels, m, n)\n",
    "    \n",
    "    # Move to GPU if available\n",
    "    device = torch.device('cuda' if torch.cuda.is_available() else 'cpu')\n",
    "    block = block.to(device)\n",
    "    x = x.to(device)\n",
    "    \n",
    "    print(f\"Running on {device}\")\n",
    "    print(f\"Input shape: {x.shape}\")\n",
    "    \n",
    "    # Warm-up run\n",
    "    with torch.no_grad():\n",
    "        _ = block(x)\n",
    "    \n",
    "    # Actual test run\n",
    "    with torch.no_grad():\n",
    "        output = block(x)\n",
    "    \n",
    "    print(f\"Output shape: {output.shape}\")\n",
    "\n",
    "# Run the test\n",
    "test_sheafy_block()"
   ]
  },
  {
   "cell_type": "code",
   "execution_count": 40,
   "metadata": {},
   "outputs": [
    {
     "name": "stdout",
     "output_type": "stream",
     "text": [
      "\n",
      "Testing with batch_size=1, in_channels=1\n",
      "Flatten time: 0.0000s\n",
      "Nodes to edges time: 0.0020s\n",
      "Inner activation time: 0.0000s\n",
      "Edges to inter time: 0.0010s\n",
      "Reshape time: 0.0000s\n",
      "Total block time: 0.0030s\n",
      "Flatten time: 0.0000s\n",
      "Nodes to edges time: 0.0020s\n",
      "Inner activation time: 0.0000s\n",
      "Edges to inter time: 0.0000s\n",
      "Reshape time: 0.0000s\n",
      "Total block time: 0.0020s\n",
      "\n",
      "Testing with batch_size=1, in_channels=16\n",
      "Flatten time: 0.0000s\n",
      "Nodes to edges time: 0.0082s\n",
      "Inner activation time: 0.0000s\n",
      "Edges to inter time: 0.0553s\n",
      "Reshape time: 0.0000s\n",
      "Total block time: 0.0635s\n",
      "Flatten time: 0.0000s\n",
      "Nodes to edges time: 0.0042s\n",
      "Inner activation time: 0.0000s\n",
      "Edges to inter time: 0.0602s\n",
      "Reshape time: 0.0000s\n",
      "Total block time: 0.0644s\n",
      "\n",
      "Testing with batch_size=1, in_channels=32\n",
      "Flatten time: 0.0011s\n",
      "Nodes to edges time: 0.0030s\n",
      "Inner activation time: 0.0000s\n",
      "Edges to inter time: 0.3430s\n",
      "Reshape time: 0.0000s\n",
      "Total block time: 0.3471s\n",
      "Flatten time: 0.0000s\n",
      "Nodes to edges time: 0.0056s\n",
      "Inner activation time: 0.0000s\n",
      "Edges to inter time: 0.2211s\n",
      "Reshape time: 0.0000s\n",
      "Total block time: 0.2267s\n",
      "\n",
      "Testing with batch_size=1, in_channels=64\n",
      "Flatten time: 0.0000s\n",
      "Nodes to edges time: 0.0126s\n",
      "Inner activation time: 0.0000s\n",
      "Edges to inter time: 0.6976s\n",
      "Reshape time: 0.0000s\n",
      "Total block time: 0.7102s\n",
      "Flatten time: 0.0000s\n",
      "Nodes to edges time: 0.0080s\n",
      "Inner activation time: 0.0000s\n",
      "Edges to inter time: 0.7059s\n",
      "Reshape time: 0.0000s\n",
      "Total block time: 0.7139s\n",
      "\n",
      "Testing with batch_size=16, in_channels=1\n",
      "Flatten time: 0.0000s\n",
      "Nodes to edges time: 0.0010s\n",
      "Inner activation time: 0.0000s\n",
      "Edges to inter time: 0.0000s\n",
      "Reshape time: 0.0000s\n",
      "Total block time: 0.0010s\n",
      "Flatten time: 0.0000s\n",
      "Nodes to edges time: 0.0010s\n",
      "Inner activation time: 0.0000s\n",
      "Edges to inter time: 0.0000s\n",
      "Reshape time: 0.0000s\n",
      "Total block time: 0.0010s\n",
      "\n",
      "Testing with batch_size=16, in_channels=16\n",
      "Flatten time: 0.0000s\n",
      "Nodes to edges time: 0.0080s\n",
      "Inner activation time: 0.0000s\n",
      "Edges to inter time: 0.0579s\n",
      "Reshape time: 0.0000s\n",
      "Total block time: 0.0659s\n",
      "Flatten time: 0.0000s\n",
      "Nodes to edges time: 0.0040s\n",
      "Inner activation time: 0.0000s\n",
      "Edges to inter time: 0.0752s\n",
      "Reshape time: 0.0000s\n",
      "Total block time: 0.0792s\n",
      "\n",
      "Testing with batch_size=16, in_channels=32\n",
      "Flatten time: 0.0000s\n",
      "Nodes to edges time: 0.0110s\n",
      "Inner activation time: 0.0010s\n",
      "Edges to inter time: 0.2622s\n",
      "Reshape time: 0.0000s\n",
      "Total block time: 0.2742s\n",
      "Flatten time: 0.0000s\n",
      "Nodes to edges time: 0.0060s\n",
      "Inner activation time: 0.0010s\n",
      "Edges to inter time: 0.3481s\n",
      "Reshape time: 0.0000s\n",
      "Total block time: 0.3551s\n",
      "\n",
      "Testing with batch_size=16, in_channels=64\n",
      "Flatten time: 0.0000s\n",
      "Nodes to edges time: 0.0176s\n",
      "Inner activation time: 0.0010s\n",
      "Edges to inter time: 1.0026s\n",
      "Reshape time: 0.0000s\n",
      "Total block time: 1.0212s\n",
      "Flatten time: 0.0010s\n",
      "Nodes to edges time: 0.0141s\n",
      "Inner activation time: 0.0010s\n",
      "Edges to inter time: 1.1284s\n",
      "Reshape time: 0.0000s\n",
      "Total block time: 1.1446s\n",
      "\n",
      "Testing with batch_size=32, in_channels=1\n",
      "Flatten time: 0.0000s\n",
      "Nodes to edges time: 0.0010s\n",
      "Inner activation time: 0.0000s\n",
      "Edges to inter time: 0.0000s\n",
      "Reshape time: 0.0000s\n",
      "Total block time: 0.0010s\n",
      "Flatten time: 0.0000s\n",
      "Nodes to edges time: 0.0010s\n",
      "Inner activation time: 0.0000s\n",
      "Edges to inter time: 0.0000s\n",
      "Reshape time: 0.0000s\n",
      "Total block time: 0.0010s\n",
      "\n",
      "Testing with batch_size=32, in_channels=16\n",
      "Flatten time: 0.0000s\n",
      "Nodes to edges time: 0.0076s\n",
      "Inner activation time: 0.0000s\n",
      "Edges to inter time: 0.1046s\n",
      "Reshape time: 0.0000s\n",
      "Total block time: 0.1122s\n",
      "Flatten time: 0.0000s\n",
      "Nodes to edges time: 0.0082s\n",
      "Inner activation time: 0.0011s\n",
      "Edges to inter time: 0.1194s\n",
      "Reshape time: 0.0000s\n",
      "Total block time: 0.1288s\n",
      "\n",
      "Testing with batch_size=32, in_channels=32\n",
      "Flatten time: 0.0000s\n",
      "Nodes to edges time: 0.0202s\n",
      "Inner activation time: 0.0021s\n",
      "Edges to inter time: 0.4355s\n",
      "Reshape time: 0.0010s\n",
      "Total block time: 0.4587s\n",
      "Flatten time: 0.0000s\n",
      "Nodes to edges time: 0.0131s\n",
      "Inner activation time: 0.0010s\n",
      "Edges to inter time: 0.5426s\n",
      "Reshape time: 0.0000s\n",
      "Total block time: 0.5567s\n",
      "\n",
      "Testing with batch_size=32, in_channels=64\n",
      "Flatten time: 0.0000s\n",
      "Nodes to edges time: 0.0320s\n",
      "Inner activation time: 0.0020s\n",
      "Edges to inter time: 1.6445s\n",
      "Reshape time: 0.0000s\n",
      "Total block time: 1.6785s\n",
      "Flatten time: 0.0000s\n",
      "Nodes to edges time: 0.0273s\n",
      "Inner activation time: 0.0044s\n",
      "Edges to inter time: 1.6877s\n",
      "Reshape time: 0.0000s\n",
      "Total block time: 1.7194s\n",
      "\n",
      "Testing with batch_size=64, in_channels=1\n",
      "Flatten time: 0.0000s\n",
      "Nodes to edges time: 0.0010s\n",
      "Inner activation time: 0.0000s\n",
      "Edges to inter time: 0.0020s\n",
      "Reshape time: 0.0010s\n",
      "Total block time: 0.0040s\n",
      "Flatten time: 0.0000s\n",
      "Nodes to edges time: 0.0020s\n",
      "Inner activation time: 0.0000s\n",
      "Edges to inter time: 0.0020s\n",
      "Reshape time: 0.0000s\n",
      "Total block time: 0.0040s\n",
      "\n",
      "Testing with batch_size=64, in_channels=16\n",
      "Flatten time: 0.0000s\n",
      "Nodes to edges time: 0.0147s\n",
      "Inner activation time: 0.0010s\n",
      "Edges to inter time: 0.1668s\n",
      "Reshape time: 0.0000s\n",
      "Total block time: 0.1825s\n",
      "Flatten time: 0.0000s\n",
      "Nodes to edges time: 0.0154s\n",
      "Inner activation time: 0.0015s\n",
      "Edges to inter time: 0.2120s\n",
      "Reshape time: 0.0000s\n",
      "Total block time: 0.2289s\n",
      "\n",
      "Testing with batch_size=64, in_channels=32\n",
      "Flatten time: 0.0010s\n",
      "Nodes to edges time: 0.0192s\n",
      "Inner activation time: 0.0020s\n",
      "Edges to inter time: 0.7452s\n",
      "Reshape time: 0.0010s\n",
      "Total block time: 0.7684s\n",
      "Flatten time: 0.0000s\n",
      "Nodes to edges time: 0.0214s\n",
      "Inner activation time: 0.0020s\n",
      "Edges to inter time: 0.6617s\n",
      "Reshape time: 0.0010s\n",
      "Total block time: 0.6861s\n",
      "\n",
      "Testing with batch_size=64, in_channels=64\n",
      "Flatten time: 0.0000s\n",
      "Nodes to edges time: 0.0517s\n",
      "Inner activation time: 0.0080s\n",
      "Edges to inter time: 2.4104s\n",
      "Reshape time: 0.0000s\n",
      "Total block time: 2.4701s\n",
      "Flatten time: 0.0000s\n",
      "Nodes to edges time: 0.0394s\n",
      "Inner activation time: 0.0050s\n",
      "Edges to inter time: 2.1987s\n",
      "Reshape time: 0.0000s\n",
      "Total block time: 2.2431s\n"
     ]
    }
   ],
   "source": [
    "def run_timing_tests():\n",
    "    batch_sizes = [1, 16, 32, 64]\n",
    "    channel_sizes = [1, 16, 32, 64]\n",
    "    \n",
    "    for batch_size in batch_sizes:\n",
    "        for in_channels in channel_sizes:\n",
    "            print(f\"\\nTesting with batch_size={batch_size}, in_channels={in_channels}\")\n",
    "            block = SheafyConvBlock(\n",
    "                m=28, \n",
    "                n=28, \n",
    "                in_channels=in_channels,\n",
    "                out_channels=in_channels,  # Keep same size for simplicity\n",
    "                inner_activation=torch.nn.ReLU()\n",
    "            )\n",
    "            x = torch.randn(batch_size, in_channels, 28, 28)\n",
    "            \n",
    "            device = torch.device('cuda' if torch.cuda.is_available() else 'cpu')\n",
    "            block = block.to(device)\n",
    "            x = x.to(device)\n",
    "            \n",
    "            # Warm-up\n",
    "            with torch.no_grad():\n",
    "                _ = block(x)\n",
    "            \n",
    "            # Test run\n",
    "            with torch.no_grad():\n",
    "                _ = block(x)\n",
    "\n",
    "# Run comprehensive tests\n",
    "run_timing_tests()"
   ]
  },
  {
   "cell_type": "markdown",
   "metadata": {},
   "source": [
    "It is clear that the problem comes when we expand to several channels in the edges to intersections functions. This is because of the nested for loops that could be easily parallelized. The problem is that we would like to take advantadge of the sparse multiplications algorithms, but currently higher dimension tensor multiplication is not supported for sparse tensors. But this could be easily implemented I beleive."
   ]
  }
 ],
 "metadata": {
  "kernelspec": {
   "display_name": "base",
   "language": "python",
   "name": "python3"
  },
  "language_info": {
   "codemirror_mode": {
    "name": "ipython",
    "version": 3
   },
   "file_extension": ".py",
   "mimetype": "text/x-python",
   "name": "python",
   "nbconvert_exporter": "python",
   "pygments_lexer": "ipython3",
   "version": "3.11.7"
  }
 },
 "nbformat": 4,
 "nbformat_minor": 2
}
